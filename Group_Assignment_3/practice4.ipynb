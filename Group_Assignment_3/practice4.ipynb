{
 "cells": [
  {
   "cell_type": "code",
   "execution_count": 1,
   "metadata": {},
   "outputs": [],
   "source": [
    "import re\n",
    "import os\n",
    "import collections\n",
    "import time\n",
    "import math\n",
    "import random"
   ]
  },
  {
   "cell_type": "markdown",
   "metadata": {},
   "source": [
    "# Create Old Posting List"
   ]
  },
  {
   "cell_type": "code",
   "execution_count": 13,
   "metadata": {},
   "outputs": [],
   "source": [
    "def get_docs(path):\n",
    "    docIdToText = collections.defaultdict(list)\n",
    "    with open(path) as file:\n",
    "        line = file.readline()\n",
    "        i = 0\n",
    "\n",
    "        while line:\n",
    "            words = line.split()\n",
    "            if words and words[0] == \"*TEXT\":\n",
    "                curDocId = int(words[1]) # Can change it back to string if necessary\n",
    "                i = 0\n",
    "            else:\n",
    "                for word in words:   \n",
    "                    docIdToText[curDocId].append((word.lower(), i))\n",
    "                    i += 1\n",
    "            line = file.readline()\n",
    "    return docIdToText"
   ]
  },
  {
   "cell_type": "code",
   "execution_count": 14,
   "metadata": {},
   "outputs": [],
   "source": [
    "docIdToText = get_docs(\"time/test.all\")"
   ]
  },
  {
   "cell_type": "code",
   "execution_count": 15,
   "metadata": {},
   "outputs": [
    {
     "name": "stdout",
     "output_type": "stream",
     "text": [
      "1: [('the', 0), ('dog', 1), ('barked', 2)]\n",
      "2: [('the', 0), ('dog', 1), ('jumped', 2)]\n",
      "3: [('a', 0), ('cat', 1), ('jumped', 2)]\n"
     ]
    }
   ],
   "source": [
    "for k, v in docIdToText.items():\n",
    "    print(f\"{k}: {v}\")"
   ]
  },
  {
   "cell_type": "markdown",
   "metadata": {},
   "source": [
    "Stop Words"
   ]
  },
  {
   "cell_type": "code",
   "execution_count": 19,
   "metadata": {},
   "outputs": [],
   "source": [
    "def get_stopwords(path):\n",
    "    stopWords = set()\n",
    "    with open(path) as file:\n",
    "        line = file.readline()\n",
    "        while line:\n",
    "            for word in line.split():\n",
    "                if len(word) == 1:\n",
    "                    continue\n",
    "                stopWords.add(word.lower())\n",
    "            line = file.readline()\n",
    "    return stopWords"
   ]
  },
  {
   "cell_type": "code",
   "execution_count": 20,
   "metadata": {},
   "outputs": [
    {
     "name": "stdout",
     "output_type": "stream",
     "text": [
      "{'belly', 'button'}\n"
     ]
    }
   ],
   "source": [
    "stopWords = get_stopwords(\"time/test.stp\")\n",
    "print(stopWords)"
   ]
  },
  {
   "cell_type": "code",
   "execution_count": 24,
   "metadata": {},
   "outputs": [],
   "source": [
    "oldPostingList = collections.defaultdict(list)\n",
    "for doc, termPos in docIdToText.items():\n",
    "    wordToPos = collections.defaultdict(list)\n",
    "    for word, pos in termPos:\n",
    "        if word in stopWords:\n",
    "            continue\n",
    "        wordToPos[word].append(pos)\n",
    "    for term, arr in wordToPos.items():\n",
    "        oldPostingList[term].append((doc, arr))"
   ]
  },
  {
   "cell_type": "code",
   "execution_count": 25,
   "metadata": {},
   "outputs": [
    {
     "name": "stdout",
     "output_type": "stream",
     "text": [
      "the [(1, [0]), (2, [0])]\n",
      "dog [(1, [1]), (2, [1])]\n",
      "barked [(1, [2])]\n",
      "jumped [(2, [2]), (3, [2])]\n",
      "a [(3, [0])]\n",
      "cat [(3, [1])]\n"
     ]
    }
   ],
   "source": [
    "for k, v in oldPostingList.items():\n",
    "    print(k, v)"
   ]
  }
 ],
 "metadata": {
  "kernelspec": {
   "display_name": "Python 3.10.8 64-bit",
   "language": "python",
   "name": "python3"
  },
  "language_info": {
   "codemirror_mode": {
    "name": "ipython",
    "version": 3
   },
   "file_extension": ".py",
   "mimetype": "text/x-python",
   "name": "python",
   "nbconvert_exporter": "python",
   "pygments_lexer": "ipython3",
   "version": "3.10.8"
  },
  "orig_nbformat": 4,
  "vscode": {
   "interpreter": {
    "hash": "949777d72b0d2535278d3dc13498b2535136f6dfe0678499012e853ee9abcab1"
   }
  }
 },
 "nbformat": 4,
 "nbformat_minor": 2
}
