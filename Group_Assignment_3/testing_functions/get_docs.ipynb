{
 "cells": [
  {
   "cell_type": "markdown",
   "metadata": {},
   "source": [
    "## For each document create a list of words"
   ]
  },
  {
   "cell_type": "code",
   "execution_count": 10,
   "metadata": {},
   "outputs": [],
   "source": [
    "path = \"../time/test.all\""
   ]
  },
  {
   "cell_type": "code",
   "execution_count": 11,
   "metadata": {},
   "outputs": [],
   "source": [
    "import collections"
   ]
  },
  {
   "cell_type": "code",
   "execution_count": 12,
   "metadata": {},
   "outputs": [],
   "source": [
    "docIdToText = collections.defaultdict(list)\n",
    "\n",
    "with open(path) as file:\n",
    "    line = file.readline()\n",
    "    i = 0\n",
    "\n",
    "    while line:\n",
    "        words = line.split()\n",
    "        if words and words[0] == \"*TEXT\":\n",
    "            curDocId = int(words[1]) # Can change it back to string if necessary\n",
    "        else:\n",
    "            for word in words:   \n",
    "                docIdToText[curDocId].append(word)\n",
    "        line = file.readline()"
   ]
  },
  {
   "cell_type": "code",
   "execution_count": 13,
   "metadata": {},
   "outputs": [
    {
     "name": "stdout",
     "output_type": "stream",
     "text": [
      "1: ['The', 'dog', 'barked']\n",
      "2: ['The', 'dog', 'jumped']\n",
      "3: ['A', 'cat', 'jumped']\n"
     ]
    }
   ],
   "source": [
    "for k, v in docIdToText.items():\n",
    "    print(f\"{k}: {v}\")"
   ]
  }
 ],
 "metadata": {
  "kernelspec": {
   "display_name": "Python 3.10.8 64-bit",
   "language": "python",
   "name": "python3"
  },
  "language_info": {
   "codemirror_mode": {
    "name": "ipython",
    "version": 3
   },
   "file_extension": ".py",
   "mimetype": "text/x-python",
   "name": "python",
   "nbconvert_exporter": "python",
   "pygments_lexer": "ipython3",
   "version": "3.10.8"
  },
  "orig_nbformat": 4,
  "vscode": {
   "interpreter": {
    "hash": "949777d72b0d2535278d3dc13498b2535136f6dfe0678499012e853ee9abcab1"
   }
  }
 },
 "nbformat": 4,
 "nbformat_minor": 2
}
