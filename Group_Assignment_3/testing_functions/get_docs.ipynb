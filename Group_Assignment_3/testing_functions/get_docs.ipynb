{
 "cells": [
  {
   "cell_type": "markdown",
   "metadata": {},
   "source": [
    "## For each document create a list of words"
   ]
  },
  {
   "cell_type": "code",
   "execution_count": 7,
   "metadata": {},
   "outputs": [],
   "source": [
    "path = \"time/test.all\""
   ]
  },
  {
   "cell_type": "code",
   "execution_count": 8,
   "metadata": {},
   "outputs": [],
   "source": [
    "import collections"
   ]
  },
  {
   "cell_type": "code",
   "execution_count": 9,
   "metadata": {},
   "outputs": [],
   "source": [
    "docNameToId = {}\n",
    "docIdToName = {}\n",
    "docIdToText = collections.defaultdict(list)"
   ]
  },
  {
   "cell_type": "code",
   "execution_count": 10,
   "metadata": {},
   "outputs": [],
   "source": [
    "with open(path) as file:\n",
    "    line = file.readline()\n",
    "    i = 0\n",
    "\n",
    "    curDocId = 0\n",
    "\n",
    "    while line:\n",
    "        # Regex to match only strings and spaces \\n\",\n",
    "        # line = re.sub(r'[^A-Za-z\\\\s]+', '', line)\\n\",\n",
    "        words = line.split()\n",
    "        if words and words[0] == \"*TEXT\":\n",
    "            i = 0 # Have to reset count for each file\n",
    "            curDocId += 1\n",
    "            docNameToId[words[1]] = curDocId\n",
    "            docIdToName[curDocId] = words[1]\n",
    "        else:\n",
    "            for word in words:   \n",
    "                # print(f\\\"pos: {i}, term: {word}\\\")\\n\",\n",
    "                # docIdToText[curDocId].append([word, i]) # If want to append position\n",
    "                docIdToText[curDocId].append(word)\n",
    "                i += 1\n",
    "        line = file.readline()"
   ]
  },
  {
   "cell_type": "code",
   "execution_count": 11,
   "metadata": {},
   "outputs": [
    {
     "name": "stdout",
     "output_type": "stream",
     "text": [
      "{'017': 1, '018': 2}\n"
     ]
    }
   ],
   "source": [
    "print(docNameToId)"
   ]
  },
  {
   "cell_type": "code",
   "execution_count": 12,
   "metadata": {},
   "outputs": [
    {
     "name": "stdout",
     "output_type": "stream",
     "text": [
      "017: ['THIS', 'IS', 'THE', 'FIRST', 'FILE']\n",
      "018: ['THIS', 'IS', 'THE', 'SECOND', 'FILE']\n"
     ]
    }
   ],
   "source": [
    "for k, v in docIdToText.items():\n",
    "    print(f\"{docIdToName[k]}: {v}\")"
   ]
  }
 ],
 "metadata": {
  "kernelspec": {
   "display_name": "Python 3.10.8 64-bit",
   "language": "python",
   "name": "python3"
  },
  "language_info": {
   "codemirror_mode": {
    "name": "ipython",
    "version": 3
   },
   "file_extension": ".py",
   "mimetype": "text/x-python",
   "name": "python",
   "nbconvert_exporter": "python",
   "pygments_lexer": "ipython3",
   "version": "3.10.8"
  },
  "orig_nbformat": 4,
  "vscode": {
   "interpreter": {
    "hash": "949777d72b0d2535278d3dc13498b2535136f6dfe0678499012e853ee9abcab1"
   }
  }
 },
 "nbformat": 4,
 "nbformat_minor": 2
}
