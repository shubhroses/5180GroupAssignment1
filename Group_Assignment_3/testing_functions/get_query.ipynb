{
 "cells": [
  {
   "cell_type": "code",
   "execution_count": 1,
   "metadata": {},
   "outputs": [],
   "source": [
    "path = \"time/TIME.QUE\""
   ]
  },
  {
   "cell_type": "code",
   "execution_count": 2,
   "metadata": {},
   "outputs": [],
   "source": [
    "import collections\n",
    "import re"
   ]
  },
  {
   "cell_type": "code",
   "execution_count": 3,
   "metadata": {},
   "outputs": [
    {
     "ename": "NameError",
     "evalue": "name 'query_id' is not defined",
     "output_type": "error",
     "traceback": [
      "\u001b[0;31m---------------------------------------------------------------------------\u001b[0m",
      "\u001b[0;31mNameError\u001b[0m                                 Traceback (most recent call last)",
      "Cell \u001b[0;32mIn [3], line 14\u001b[0m\n\u001b[1;32m     12\u001b[0m \u001b[39melse\u001b[39;00m:\n\u001b[1;32m     13\u001b[0m     \u001b[39mfor\u001b[39;00m word \u001b[39min\u001b[39;00m words:   \n\u001b[0;32m---> 14\u001b[0m         docIdToText[query_id]\u001b[39m.\u001b[39mappend(word)\n\u001b[1;32m     15\u001b[0m line \u001b[39m=\u001b[39m file\u001b[39m.\u001b[39mreadline()\n",
      "\u001b[0;31mNameError\u001b[0m: name 'query_id' is not defined"
     ]
    }
   ],
   "source": [
    "docIdToText = collections.defaultdict(list)\n",
    "\n",
    "with open(path) as file:\n",
    "    line = file.readline()\n",
    "    line = re.sub(r'[^A-Za-z\\\\s]+', '', line)\n",
    "    while line:\n",
    "        words = line.split()\n",
    "        if words and words[0] == \"*STOP\":\n",
    "            break\n",
    "        if words and words[0] == \"*FIND\":\n",
    "            query_id = words[1]\n",
    "        else:\n",
    "            for word in words:   \n",
    "                docIdToText[query_id].append(word)\n",
    "        line = file.readline()"
   ]
  },
  {
   "cell_type": "code",
   "execution_count": 4,
   "metadata": {},
   "outputs": [],
   "source": [
    "for k, v in docIdToText.items():\n",
    "    print(f\"{k} :  {v}\")"
   ]
  }
 ],
 "metadata": {
  "kernelspec": {
   "display_name": "Python 3.10.8 64-bit",
   "language": "python",
   "name": "python3"
  },
  "language_info": {
   "codemirror_mode": {
    "name": "ipython",
    "version": 3
   },
   "file_extension": ".py",
   "mimetype": "text/x-python",
   "name": "python",
   "nbconvert_exporter": "python",
   "pygments_lexer": "ipython3",
   "version": "3.10.8"
  },
  "orig_nbformat": 4,
  "vscode": {
   "interpreter": {
    "hash": "949777d72b0d2535278d3dc13498b2535136f6dfe0678499012e853ee9abcab1"
   }
  }
 },
 "nbformat": 4,
 "nbformat_minor": 2
}
