{
 "cells": [
  {
   "cell_type": "code",
   "execution_count": 1,
   "metadata": {},
   "outputs": [],
   "source": [
    "path = \"../time/test.que\""
   ]
  },
  {
   "cell_type": "code",
   "execution_count": 2,
   "metadata": {},
   "outputs": [],
   "source": [
    "import collections"
   ]
  },
  {
   "cell_type": "code",
   "execution_count": 3,
   "metadata": {},
   "outputs": [],
   "source": [
    "idToQueue = collections.defaultdict(list)\n",
    "\n",
    "with open(path) as file:\n",
    "    line = file.readline()\n",
    "    while line:\n",
    "        words = line.split()\n",
    "        if words and words[0] == \"*STOP\":\n",
    "            break\n",
    "        if words and words[0] == \"*FIND\":\n",
    "            query_id = int(words[1])\n",
    "        else:\n",
    "            for word in words:   \n",
    "                idToQueue[query_id].append(word)\n",
    "        line = file.readline()"
   ]
  },
  {
   "cell_type": "code",
   "execution_count": 4,
   "metadata": {},
   "outputs": [
    {
     "name": "stdout",
     "output_type": "stream",
     "text": [
      "1 :  ['A', 'cat', 'jumped']\n",
      "2 :  ['the', 'cat', 'barked']\n"
     ]
    }
   ],
   "source": [
    "for k, v in idToQueue.items():\n",
    "    print(f\"{k} :  {v}\")"
   ]
  }
 ],
 "metadata": {
  "kernelspec": {
   "display_name": "Python 3.10.8 64-bit",
   "language": "python",
   "name": "python3"
  },
  "language_info": {
   "codemirror_mode": {
    "name": "ipython",
    "version": 3
   },
   "file_extension": ".py",
   "mimetype": "text/x-python",
   "name": "python",
   "nbconvert_exporter": "python",
   "pygments_lexer": "ipython3",
   "version": "3.10.8"
  },
  "orig_nbformat": 4,
  "vscode": {
   "interpreter": {
    "hash": "949777d72b0d2535278d3dc13498b2535136f6dfe0678499012e853ee9abcab1"
   }
  }
 },
 "nbformat": 4,
 "nbformat_minor": 2
}
