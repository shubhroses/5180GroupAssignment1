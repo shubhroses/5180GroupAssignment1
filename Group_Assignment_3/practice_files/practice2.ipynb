{
 "cells": [
  {
   "cell_type": "markdown",
   "metadata": {},
   "source": [
    "## Indexer"
   ]
  },
  {
   "cell_type": "code",
   "execution_count": 1,
   "metadata": {},
   "outputs": [],
   "source": [
    "import sys \n",
    "import lucene\n",
    "\n",
    "from java.io import File\n",
    "from org.apache.lucene.analysis.standard import StandardAnalyzer\n",
    "from org.apache.lucene.document import Document, Field\n",
    "from org.apache.lucene.index import IndexWriter, IndexWriterConfig\n",
    "from org.apache.lucene.store import FSDirectory\n",
    "from org.apache.lucene.util import Version\n"
   ]
  },
  {
   "cell_type": "code",
   "execution_count": 2,
   "metadata": {},
   "outputs": [
    {
     "data": {
      "text/plain": [
       "<jcc.JCCEnv at 0xffff86d5c3f0>"
      ]
     },
     "execution_count": 2,
     "metadata": {},
     "output_type": "execute_result"
    }
   ],
   "source": [
    "lucene.initVM()"
   ]
  },
  {
   "cell_type": "code",
   "execution_count": 3,
   "metadata": {},
   "outputs": [
    {
     "ename": "JavaError",
     "evalue": "<super: <class 'JavaError'>, <JavaError object>>\n    Java stacktrace:\norg.apache.lucene.store.LockObtainFailedException: Lock held by another program: /root/5180GroupAssignment1/Group_Assignment_3/practice_files/index/write.lock\n\tat org.apache.lucene.store.NativeFSLockFactory.obtainFSLock(NativeFSLockFactory.java:117)\n\tat org.apache.lucene.store.FSLockFactory.obtainLock(FSLockFactory.java:43)\n\tat org.apache.lucene.store.BaseDirectory.obtainLock(BaseDirectory.java:44)\n\tat org.apache.lucene.index.IndexWriter.<init>(IndexWriter.java:947)\n",
     "output_type": "error",
     "traceback": [
      "\u001b[0;31m---------------------------------------------------------------------------\u001b[0m",
      "\u001b[0;31mJavaError\u001b[0m                                 Traceback (most recent call last)",
      "Cell \u001b[0;32mIn [3], line 4\u001b[0m\n\u001b[1;32m      2\u001b[0m indexDir \u001b[39m=\u001b[39m FSDirectory\u001b[39m.\u001b[39mopen(indexPath)\n\u001b[1;32m      3\u001b[0m writerConfig \u001b[39m=\u001b[39m IndexWriterConfig(StandardAnalyzer())\n\u001b[0;32m----> 4\u001b[0m writer \u001b[39m=\u001b[39m IndexWriter(indexDir, writerConfig)\n\u001b[1;32m      6\u001b[0m \u001b[39m# print (\"%d docs in index\" % writer.numDocs())\u001b[39;00m\n\u001b[1;32m      7\u001b[0m \u001b[39m# print (\"Reading lines from sys.stdin...\")\u001b[39;00m\n\u001b[1;32m      8\u001b[0m \u001b[39mfor\u001b[39;00m n, l \u001b[39min\u001b[39;00m \u001b[39menumerate\u001b[39m(sys\u001b[39m.\u001b[39mstdin):\n",
      "\u001b[0;31mJavaError\u001b[0m: <super: <class 'JavaError'>, <JavaError object>>\n    Java stacktrace:\norg.apache.lucene.store.LockObtainFailedException: Lock held by another program: /root/5180GroupAssignment1/Group_Assignment_3/practice_files/index/write.lock\n\tat org.apache.lucene.store.NativeFSLockFactory.obtainFSLock(NativeFSLockFactory.java:117)\n\tat org.apache.lucene.store.FSLockFactory.obtainLock(FSLockFactory.java:43)\n\tat org.apache.lucene.store.BaseDirectory.obtainLock(BaseDirectory.java:44)\n\tat org.apache.lucene.index.IndexWriter.<init>(IndexWriter.java:947)\n"
     ]
    }
   ],
   "source": [
    "indexPath = File(\"index/\").toPath() #from java. io import File\n",
    "indexDir = FSDirectory.open(indexPath)\n",
    "writerConfig = IndexWriterConfig(StandardAnalyzer())\n",
    "writer = IndexWriter(indexDir, writerConfig)\n",
    "\n",
    "# print (\"%d docs in index\" % writer.numDocs())\n",
    "# print (\"Reading lines from sys.stdin...\")\n",
    "for n, l in enumerate(sys.stdin):\n",
    "    doc = Document()\n",
    "    doc.add(Field(\"text\", l, Field.Store.YES, Field.Index.ANALYZED))\n",
    "    writer.addDocument(doc)\n",
    "# print (\"Indexed %d lines from stdin (%d docs in index)\" % (n, writer.numDocs()))\n",
    "# print (\"Closing index of %d docs...\" % writer.numDocs())\n",
    "writer.close()\n"
   ]
  }
 ],
 "metadata": {
  "kernelspec": {
   "display_name": "Python 3.10.8 64-bit",
   "language": "python",
   "name": "python3"
  },
  "language_info": {
   "codemirror_mode": {
    "name": "ipython",
    "version": 3
   },
   "file_extension": ".py",
   "mimetype": "text/x-python",
   "name": "python",
   "nbconvert_exporter": "python",
   "pygments_lexer": "ipython3",
   "version": "3.10.8"
  },
  "orig_nbformat": 4,
  "vscode": {
   "interpreter": {
    "hash": "949777d72b0d2535278d3dc13498b2535136f6dfe0678499012e853ee9abcab1"
   }
  }
 },
 "nbformat": 4,
 "nbformat_minor": 2
}
