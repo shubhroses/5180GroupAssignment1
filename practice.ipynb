{
 "cells": [
  {
   "cell_type": "code",
   "execution_count": 171,
   "metadata": {},
   "outputs": [],
   "source": [
    "import re\n",
    "import collections\n",
    "import os\n",
    "import time"
   ]
  },
  {
   "cell_type": "code",
   "execution_count": 172,
   "metadata": {},
   "outputs": [],
   "source": [
    "def tokenize(f):\n",
    "    #Returns [(term, pos), (term, pos) ...]\n",
    "    terms = []\n",
    "    with open(\"collection/\" + f) as file:\n",
    "        line = file.readline()\n",
    "        while line:\n",
    "            # Regex to match only strings and spaces \n",
    "            line = re.sub(r'[^A-Za-z\\s]+', '', line)\n",
    "            for i, word in enumerate(line.split()):\n",
    "                terms.append((word.lower(), file.tell()+i))\n",
    "            line = file.readline() \n",
    "    return terms"
   ]
  },
  {
   "cell_type": "code",
   "execution_count": 173,
   "metadata": {},
   "outputs": [],
   "source": [
    "indToDoc = {}\n",
    "def createPostingList():\n",
    "    postingList = collections.defaultdict(list)\n",
    "    curDocID = 0\n",
    "\n",
    "    for f in os.listdir(\"collection\"):\n",
    "        indToDoc[curDocID] = f\n",
    "        terms = tokenize(f)\n",
    "\n",
    "        # create map {word:[pos1, pos2, pos3]}\n",
    "        wordToPos = collections.defaultdict(list)\n",
    "        for word, pos in terms:\n",
    "            wordToPos[word].append(pos)\n",
    "\n",
    "        # append to posting list {term : [(docID1, [pos1, pos2, pos3, pos4])]}\n",
    "        for term, arr in wordToPos.items():\n",
    "            postingList[term].append((curDocID, wordToPos[term]))\n",
    "\n",
    "        # For every file update id \n",
    "        curDocID += 1\n",
    "    \n",
    "    return postingList\n",
    "    "
   ]
  },
  {
   "cell_type": "code",
   "execution_count": 174,
   "metadata": {},
   "outputs": [],
   "source": [
    "startTime = time.time()\n",
    "result = createPostingList()\n",
    "endTime = time.time()"
   ]
  },
  {
   "cell_type": "code",
   "execution_count": 175,
   "metadata": {},
   "outputs": [
    {
     "name": "stdout",
     "output_type": "stream",
     "text": [
      "Index built in 1.0126490592956543 seconds.\n"
     ]
    }
   ],
   "source": [
    "print(f\"Index built in {endTime - startTime} seconds.\")"
   ]
  },
  {
   "cell_type": "code",
   "execution_count": 182,
   "metadata": {},
   "outputs": [],
   "source": [
    "def mergeTwo(A, B):\n",
    "    if not B:\n",
    "        return A\n",
    "\n",
    "    a = b = 0\n",
    "    res = []\n",
    "    while a < len(A) and b < len(B):\n",
    "        if A[a][0] > B[b][0]:\n",
    "            b += 1\n",
    "        elif A[a][0] < B[b][0]:\n",
    "            a += 1\n",
    "        else:\n",
    "            res.append((A[a][0], []))\n",
    "            a += 1\n",
    "            b += 1\n",
    "    return res"
   ]
  },
  {
   "cell_type": "code",
   "execution_count": 184,
   "metadata": {},
   "outputs": [],
   "source": [
    "def andQuery(queryTerms):\n",
    "    postingLists = [result[q] for q in queryTerms]\n",
    "\n",
    "    while len(postingLists) > 1:\n",
    "        temp = []\n",
    "        for i in range(0, len(postingLists), 2):\n",
    "            if i == len(postingLists) - 1:\n",
    "                temp.append(postingLists[i])\n",
    "            else:\n",
    "                temp.append(mergeTwo(postingLists[i], postingLists[i+1]))\n",
    "        postingLists = temp\n",
    "\n",
    "    res = []\n",
    "    for d, a in postingLists[0]:\n",
    "        res.append(indToDoc[d])\n",
    "    return res"
   ]
  },
  {
   "cell_type": "code",
   "execution_count": 191,
   "metadata": {},
   "outputs": [
    {
     "name": "stdout",
     "output_type": "stream",
     "text": [
      "Results for the Query: with AND without AND yemen\n",
      "Total Docs retrieved: 6\n",
      "Text-159.txt\n",
      "Text-86.txt\n",
      "Text-115.txt\n",
      "Text-117.txt\n",
      "Text-121.txt\n",
      "Text-99.txt\n",
      "Retreived in 0.006040096282958984 seconds\n"
     ]
    }
   ],
   "source": [
    "\"\"\"\n",
    "query = \"with without yemen\"\n",
    "fixedQuery = re.sub(r'[^A-Za-z\\s]+', '', query)\n",
    "queryTerms = fixedQuery.lower().split()\n",
    "\"\"\"\n",
    "queryTerms = ['with', 'without', 'yemen']\n",
    "\n",
    "queryTimeStart = time.time()\n",
    "resultAnd = andQuery(queryTerms)\n",
    "queryTimeEnd = time.time()\n",
    "\n",
    "andStr = \" AND \".join(queryTerms)\n",
    "print(f\"Results for the Query: {andStr}\")\n",
    "print(f\"Total Docs retrieved: {len(resultAnd)}\")\n",
    "for doc in resultAnd:\n",
    "    print(doc)\n",
    "print(f\"Retreived in {queryTimeEnd - queryTimeStart} seconds\")"
   ]
  }
 ],
 "metadata": {
  "kernelspec": {
   "display_name": "Python 3.9.13 64-bit",
   "language": "python",
   "name": "python3"
  },
  "language_info": {
   "codemirror_mode": {
    "name": "ipython",
    "version": 3
   },
   "file_extension": ".py",
   "mimetype": "text/x-python",
   "name": "python",
   "nbconvert_exporter": "python",
   "pygments_lexer": "ipython3",
   "version": "3.9.13"
  },
  "orig_nbformat": 4,
  "vscode": {
   "interpreter": {
    "hash": "b0fa6594d8f4cbf19f97940f81e996739fb7646882a419484c72d19e05852a7e"
   }
  }
 },
 "nbformat": 4,
 "nbformat_minor": 2
}
